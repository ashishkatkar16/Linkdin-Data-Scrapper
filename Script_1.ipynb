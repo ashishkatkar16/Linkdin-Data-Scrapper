{
 "cells": [
  {
   "cell_type": "code",
   "execution_count": 91,
   "id": "0dfc2394",
   "metadata": {
    "scrolled": true
   },
   "outputs": [
    {
     "name": "stdout",
     "output_type": "stream",
     "text": [
      "Requirement already satisfied: selenium==4.2.0 in /Users/ashishkatkar/anaconda3/lib/python3.11/site-packages (4.2.0)\n",
      "Requirement already satisfied: urllib3[secure,socks]~=1.26 in /Users/ashishkatkar/anaconda3/lib/python3.11/site-packages (from selenium==4.2.0) (1.26.16)\n",
      "Requirement already satisfied: trio~=0.17 in /Users/ashishkatkar/anaconda3/lib/python3.11/site-packages (from selenium==4.2.0) (0.24.0)\n",
      "Requirement already satisfied: trio-websocket~=0.9 in /Users/ashishkatkar/anaconda3/lib/python3.11/site-packages (from selenium==4.2.0) (0.11.1)\n",
      "Requirement already satisfied: attrs>=20.1.0 in /Users/ashishkatkar/anaconda3/lib/python3.11/site-packages (from trio~=0.17->selenium==4.2.0) (22.1.0)\n",
      "Requirement already satisfied: sortedcontainers in /Users/ashishkatkar/anaconda3/lib/python3.11/site-packages (from trio~=0.17->selenium==4.2.0) (2.4.0)\n",
      "Requirement already satisfied: idna in /Users/ashishkatkar/anaconda3/lib/python3.11/site-packages (from trio~=0.17->selenium==4.2.0) (3.4)\n",
      "Requirement already satisfied: outcome in /Users/ashishkatkar/anaconda3/lib/python3.11/site-packages (from trio~=0.17->selenium==4.2.0) (1.3.0.post0)\n",
      "Requirement already satisfied: sniffio>=1.3.0 in /Users/ashishkatkar/anaconda3/lib/python3.11/site-packages (from trio~=0.17->selenium==4.2.0) (1.3.1)\n",
      "Requirement already satisfied: wsproto>=0.14 in /Users/ashishkatkar/anaconda3/lib/python3.11/site-packages (from trio-websocket~=0.9->selenium==4.2.0) (1.2.0)\n",
      "Requirement already satisfied: pyOpenSSL>=0.14 in /Users/ashishkatkar/anaconda3/lib/python3.11/site-packages (from urllib3[secure,socks]~=1.26->selenium==4.2.0) (23.2.0)\n",
      "Requirement already satisfied: cryptography>=1.3.4 in /Users/ashishkatkar/anaconda3/lib/python3.11/site-packages (from urllib3[secure,socks]~=1.26->selenium==4.2.0) (41.0.3)\n",
      "Requirement already satisfied: certifi in /Users/ashishkatkar/anaconda3/lib/python3.11/site-packages (from urllib3[secure,socks]~=1.26->selenium==4.2.0) (2024.2.2)\n",
      "Requirement already satisfied: urllib3-secure-extra in /Users/ashishkatkar/anaconda3/lib/python3.11/site-packages (from urllib3[secure,socks]~=1.26->selenium==4.2.0) (0.1.0)\n",
      "Requirement already satisfied: PySocks!=1.5.7,<2.0,>=1.5.6 in /Users/ashishkatkar/anaconda3/lib/python3.11/site-packages (from urllib3[secure,socks]~=1.26->selenium==4.2.0) (1.7.1)\n",
      "Requirement already satisfied: cffi>=1.12 in /Users/ashishkatkar/anaconda3/lib/python3.11/site-packages (from cryptography>=1.3.4->urllib3[secure,socks]~=1.26->selenium==4.2.0) (1.15.1)\n",
      "Requirement already satisfied: h11<1,>=0.9.0 in /Users/ashishkatkar/anaconda3/lib/python3.11/site-packages (from wsproto>=0.14->trio-websocket~=0.9->selenium==4.2.0) (0.14.0)\n",
      "Requirement already satisfied: pycparser in /Users/ashishkatkar/anaconda3/lib/python3.11/site-packages (from cffi>=1.12->cryptography>=1.3.4->urllib3[secure,socks]~=1.26->selenium==4.2.0) (2.21)\n",
      "Requirement already satisfied: beautifulsoup4 in /Users/ashishkatkar/anaconda3/lib/python3.11/site-packages (4.12.3)\n",
      "Requirement already satisfied: soupsieve>1.2 in /Users/ashishkatkar/anaconda3/lib/python3.11/site-packages (from beautifulsoup4) (2.4)\n",
      "Requirement already satisfied: html5lib in /Users/ashishkatkar/anaconda3/lib/python3.11/site-packages (1.1)\n",
      "Requirement already satisfied: six>=1.9 in /Users/ashishkatkar/anaconda3/lib/python3.11/site-packages (from html5lib) (1.16.0)\n",
      "Requirement already satisfied: webencodings in /Users/ashishkatkar/anaconda3/lib/python3.11/site-packages (from html5lib) (0.5.1)\n"
     ]
    }
   ],
   "source": [
    "!pip install selenium==4.2.0\n",
    "!pip install beautifulsoup4\n",
    "!pip install html5lib"
   ]
  },
  {
   "cell_type": "code",
   "execution_count": 105,
   "id": "3931c534",
   "metadata": {},
   "outputs": [],
   "source": [
    "import os,random, sys, time\n",
    "from selenium import webdriver\n",
    "from selenium.webdriver.common.by import By\n",
    "from selenium.webdriver.common.keys import Keys\n",
    "from time import sleep\n",
    "import requests\n",
    "from bs4 import BeautifulSoup"
   ]
  },
  {
   "cell_type": "markdown",
   "id": "cbbfc4fb",
   "metadata": {},
   "source": [
    "## Setup for Webdriver According to OS"
   ]
  },
  {
   "cell_type": "code",
   "execution_count": 106,
   "id": "28b62913",
   "metadata": {
    "scrolled": false
   },
   "outputs": [],
   "source": [
    "# Open the browser\n",
    "browser = webdriver.Chrome()"
   ]
  },
  {
   "cell_type": "code",
   "execution_count": 107,
   "id": "a50b2729",
   "metadata": {},
   "outputs": [],
   "source": [
    "browser.get('https://www.linkedin.com/uas/login')"
   ]
  },
  {
   "cell_type": "markdown",
   "id": "44695ca5",
   "metadata": {},
   "source": [
    "# Set up User id and Pass in config File"
   ]
  },
  {
   "cell_type": "code",
   "execution_count": 108,
   "id": "4bf58f38",
   "metadata": {},
   "outputs": [],
   "source": [
    "file = open('config.txt')\n",
    "lines = file.readlines()\n",
    "username = lines[0]\n",
    "password = lines[1]"
   ]
  },
  {
   "cell_type": "markdown",
   "id": "244fa724",
   "metadata": {},
   "source": [
    "## Login into Linkdin"
   ]
  },
  {
   "cell_type": "code",
   "execution_count": 109,
   "id": "f3531758",
   "metadata": {},
   "outputs": [],
   "source": [
    "elementID = browser.find_element(By.ID,'username')\n",
    "elementID.send_keys(username)\n",
    "\n",
    "elementID = browser.find_element(By.ID,'password')\n",
    "elementID.send_keys(password)\n",
    "sleep(1)\n",
    "elementID.submit()"
   ]
  },
  {
   "cell_type": "markdown",
   "id": "5459f235",
   "metadata": {},
   "source": [
    "## Searching FirstName and LastName"
   ]
  },
  {
   "cell_type": "code",
   "execution_count": 117,
   "id": "6be3ac7b",
   "metadata": {},
   "outputs": [],
   "source": [
    "input_search = browser.find_element(By.XPATH,\"(//input[@type='text'])[1]\")\n",
    "input_search.send_keys(\"Om mane\")\n",
    "sleep(1)\n",
    "input_search.send_keys(Keys.ENTER)"
   ]
  },
  {
   "cell_type": "code",
   "execution_count": 118,
   "id": "f8fda02c",
   "metadata": {},
   "outputs": [],
   "source": [
    "Search_all = browser.find_element(By.XPATH,\"(//button[@type='button'])[4]\")\n",
    "Search_all.click()"
   ]
  },
  {
   "cell_type": "code",
   "execution_count": 119,
   "id": "c5af1033",
   "metadata": {},
   "outputs": [
    {
     "data": {
      "text/plain": [
       "<Response [200]>"
      ]
     },
     "execution_count": 119,
     "metadata": {},
     "output_type": "execute_result"
    }
   ],
   "source": [
    "Current_url = browser.current_url\n",
    "Current = requests.get(Current_url)\n",
    "Current"
   ]
  },
  {
   "cell_type": "markdown",
   "id": "cf6b15e7",
   "metadata": {},
   "source": [
    "## Scrapping Data"
   ]
  },
  {
   "cell_type": "code",
   "execution_count": 127,
   "id": "789a1509",
   "metadata": {},
   "outputs": [],
   "source": [
    "# Scrapping Using Beautiful Soup\n",
    "soup = BeautifulSoup(Current.content, 'html.parser')"
   ]
  },
  {
   "cell_type": "code",
   "execution_count": 128,
   "id": "45a3acf2",
   "metadata": {},
   "outputs": [],
   "source": [
    "# Find all user profiles in the search results\n",
    "profiles = soup.find_all('li', class_='search-result__occluded-item')\n",
    "\n",
    "# Extract and print user information\n",
    "for profile in profiles:\n",
    "    name_elem = profile.find('span', class_='name')\n",
    "    if name_elem:\n",
    "        name = name_elem.get_text().strip()\n",
    "    else:\n",
    "        name = \"Name not found\"\n",
    "    \n",
    "    occupation_elem = profile.find('p', class_='subline-level-1')\n",
    "    if occupation_elem:\n",
    "        occupation = occupation_elem.get_text().strip()\n",
    "    else:\n",
    "        occupation = \"Occupation not found\"\n",
    "    \n",
    "    location_elem = profile.find('p', class_='subline-level-2')\n",
    "    if location_elem:\n",
    "        location = location_elem.get_text().strip()\n",
    "    else:\n",
    "        location = \"Location not found\"\n",
    "    \n",
    "    print(\"Name:\", name)\n",
    "    print(\"Occupation:\", occupation)\n",
    "    print(\"Location:\", location)\n",
    "    print()\n",
    "\n",
    "# Close the webdriver\n",
    "driver.quit()"
   ]
  }
 ],
 "metadata": {
  "kernelspec": {
   "display_name": "Python 3 (ipykernel)",
   "language": "python",
   "name": "python3"
  },
  "language_info": {
   "codemirror_mode": {
    "name": "ipython",
    "version": 3
   },
   "file_extension": ".py",
   "mimetype": "text/x-python",
   "name": "python",
   "nbconvert_exporter": "python",
   "pygments_lexer": "ipython3",
   "version": "3.11.5"
  }
 },
 "nbformat": 4,
 "nbformat_minor": 5
}
